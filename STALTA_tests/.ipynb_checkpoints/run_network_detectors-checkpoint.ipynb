{
 "cells": [
  {
   "cell_type": "code",
   "execution_count": 17,
   "metadata": {},
   "outputs": [],
   "source": [
    "from obspy import read, Stream\n",
    "import os\n",
    "import sys\n",
    "from glob import glob\n",
    "from obspy.signal.trigger import recursive_sta_lta\n",
    "from obspy.signal.trigger import coincidence_trigger\n",
    "import pandas as pd\n",
    "import numpy as np"
   ]
  },
  {
   "cell_type": "code",
   "execution_count": 3,
   "metadata": {},
   "outputs": [],
   "source": [
    "fs = 1/500.\n",
    "DOM_PERIOD = 1 / 50.\n",
    "sta_len_sec = 2.5 * DOM_PERIOD  # 2-3 times dominant period\n",
    "lta_len_sec = 7.5 * sta_len_sec  # 5-10 times STA"
   ]
  },
  {
   "cell_type": "code",
   "execution_count": 18,
   "metadata": {},
   "outputs": [
    {
     "name": "stdout",
     "output_type": "stream",
     "text": [
      "51 Trace(s) in Stream:\n",
      "\n",
      "BH.G18..DPE | 2020-03-10T00:00:00.000000Z - 2020-03-11T00:00:00.005273Z | 500.0 Hz, 43200001 samples\n",
      "...\n",
      "(49 other traces)\n",
      "...\n",
      "BH.G18..DPZ | 2020-03-10T00:00:00.000000Z - 2020-03-11T00:00:00.005273Z | 500.0 Hz, 43200001 samples\n",
      "\n",
      "[Use \"print(Stream.__str__(extended=True))\" to print all Traces]\n"
     ]
    }
   ],
   "source": [
    "DATA_DIR_ROOT = \"/home/gilbert_lab/cami_frs/borehole_data/sac_daily_nez_500Hz/\"\n",
    "day_folder = \"20200310\"\n",
    "st = Stream()\n",
    "for sta in ['G2', 'G4', 'G14', 'G6', 'G8', 'G11', 'G16', 'G18']:\n",
    "    stream += read(os.path.join(DATA_DIR_ROOT, day_folder, \"*%s.*.sac\" % sta))\n",
    "print(stream)#.__str__(extended=True))"
   ]
  },
  {
   "cell_type": "code",
   "execution_count": 14,
   "metadata": {},
   "outputs": [
    {
     "name": "stdout",
     "output_type": "stream",
     "text": [
      "STA = 0.050000\n",
      "LTA = 0.375000\n",
      "STA = 0.083333\n",
      "LTA = 0.625000\n"
     ]
    }
   ],
   "source": [
    "DOM_PERIOD = 1 / 50.\n",
    "sta_len_sec = 2.5 * DOM_PERIOD  # 2-3 times dominant period\n",
    "lta_len_sec = 7.5 * sta_len_sec  # 5-10 times STA\n",
    "print(\"STA = %f\\nLTA = %f\" % (sta_len_sec, lta_len_sec))\n",
    "DOM_PERIOD = 1 / 30.\n",
    "sta_len_sec = 2.5 * DOM_PERIOD  # 2-3 times dominant period\n",
    "lta_len_sec = 7.5 * sta_len_sec  # 5-10 times STA\n",
    "print(\"STA = %f\\nLTA = %f\" % (sta_len_sec, lta_len_sec))"
   ]
  },
  {
   "cell_type": "code",
   "execution_count": 16,
   "metadata": {},
   "outputs": [
    {
     "name": "stderr",
     "output_type": "stream",
     "text": [
      "/home/genevieve.savard/anaconda3/envs/eqcorrscan/lib/python3.6/site-packages/ipykernel_launcher.py:3: FutureWarning: The pandas.datetime class is deprecated and will be removed from pandas in a future version. Import from datetime instead.\n",
      "  This is separate from the ipykernel package so we can avoid doing imports until\n"
     ]
    }
   ],
   "source": [
    "# Load ERT data\n",
    "ert_surveys_file = \"../survey_times_ERT.csv\"\n",
    "dateparse = lambda x: pd.datetime.strptime(x, '%Y-%m-%d %H:%M:%S')\n",
    "ert_surveys = pd.read_csv(ert_surveys_file, parse_dates=[\"time_local_start\"], date_parser=dateparse)\n",
    "ert_surveys[\"time_local_start\"] = ert_surveys[\"time_local_start\"].dt.tz_localize(\"America/Edmonton\",\n",
    "                                                                                 ambiguous=\"infer\")\n",
    "ert_surveys[\"time_utc_start\"] = ert_surveys[\"time_local_start\"].dt.tz_convert(None)\n",
    "ert_surveys[\"time_utc_end\"] = ert_surveys[\"time_utc_start\"] + pd.Timedelta(20, unit=\"m\")\n",
    "ert_surveys[\"time_utc_end\"] = pd.to_datetime(ert_surveys[\"time_utc_end\"])\n",
    "ert_surveys[\"time_utc_start\"] = pd.to_datetime(ert_surveys[\"time_utc_start\"])\n"
   ]
  },
  {
   "cell_type": "code",
   "execution_count": 20,
   "metadata": {},
   "outputs": [
    {
     "name": "stdout",
     "output_type": "stream",
     "text": [
      "STA = 1.000000, LTA = 100.000000, on_thresh = 1.500000\n",
      "44 detections\n"
     ]
    },
    {
     "name": "stderr",
     "output_type": "stream",
     "text": [
      "/home/genevieve.savard/anaconda3/envs/eqcorrscan/lib/python3.6/site-packages/ipykernel_launcher.py:43: DeprecationWarning: The truth value of an empty array is ambiguous. Returning False, but in future this will result in an error. Use `array.size > 0` to check that an array is not empty.\n"
     ]
    },
    {
     "name": "stdout",
     "output_type": "stream",
     "text": [
      "STA = 1.000000, LTA = 100.000000, on_thresh = 5.000000\n",
      "31 detections\n",
      "STA = 1.000000, LTA = 100.000000, on_thresh = 10.000000\n",
      "37 detections\n",
      "STA = 1.000000, LTA = 500.000000, on_thresh = 1.500000\n",
      "9 detections\n",
      "STA = 1.000000, LTA = 500.000000, on_thresh = 5.000000\n",
      "8 detections\n",
      "STA = 1.000000, LTA = 500.000000, on_thresh = 10.000000\n",
      "6 detections\n",
      "STA = 1.000000, LTA = 1000.000000, on_thresh = 1.500000\n",
      "9 detections\n",
      "STA = 1.000000, LTA = 1000.000000, on_thresh = 5.000000\n",
      "7 detections\n",
      "STA = 1.000000, LTA = 1000.000000, on_thresh = 10.000000\n",
      "6 detections\n",
      "STA = 1.000000, LTA = 3500.000000, on_thresh = 1.500000\n",
      "8 detections\n",
      "STA = 1.000000, LTA = 3500.000000, on_thresh = 5.000000\n",
      "17 detections\n",
      "STA = 1.000000, LTA = 3500.000000, on_thresh = 10.000000\n",
      "9 detections\n",
      "STA = 5.000000, LTA = 100.000000, on_thresh = 1.500000\n"
     ]
    },
    {
     "ename": "KeyboardInterrupt",
     "evalue": "",
     "output_type": "error",
     "traceback": [
      "\u001b[0;31m---------------------------------------------------------------------------\u001b[0m",
      "\u001b[0;31mKeyboardInterrupt\u001b[0m                         Traceback (most recent call last)",
      "\u001b[0;32m<ipython-input-20-f99476537dbb>\u001b[0m in \u001b[0;36m<module>\u001b[0;34m\u001b[0m\n\u001b[1;32m     28\u001b[0m                                                  \u001b[0mlta\u001b[0m\u001b[0;34m=\u001b[0m\u001b[0mlta\u001b[0m\u001b[0;34m,\u001b[0m\u001b[0;34m\u001b[0m\u001b[0;34m\u001b[0m\u001b[0m\n\u001b[1;32m     29\u001b[0m                                                  \u001b[0mthr_coincidence_sum\u001b[0m\u001b[0;34m=\u001b[0m\u001b[0mmin_chans\u001b[0m\u001b[0;34m,\u001b[0m\u001b[0;34m\u001b[0m\u001b[0;34m\u001b[0m\u001b[0m\n\u001b[0;32m---> 30\u001b[0;31m                                                  details=True)\n\u001b[0m\u001b[1;32m     31\u001b[0m                                                  \u001b[0;31m#max_trigger_length=2.0,\u001b[0m\u001b[0;34m\u001b[0m\u001b[0;34m\u001b[0m\u001b[0;34m\u001b[0m\u001b[0m\n\u001b[1;32m     32\u001b[0m                                                  \u001b[0;31m#delete_long_trigger=True,\u001b[0m\u001b[0;34m\u001b[0m\u001b[0;34m\u001b[0m\u001b[0;34m\u001b[0m\u001b[0m\n",
      "\u001b[0;32m~/anaconda3/envs/eqcorrscan/lib/python3.6/site-packages/obspy/signal/trigger.py\u001b[0m in \u001b[0;36mcoincidence_trigger\u001b[0;34m(trigger_type, thr_on, thr_off, stream, thr_coincidence_sum, trace_ids, max_trigger_length, delete_long_trigger, trigger_off_extension, details, event_templates, similarity_threshold, **options)\u001b[0m\n\u001b[1;32m    692\u001b[0m             \u001b[0;32mcontinue\u001b[0m\u001b[0;34m\u001b[0m\u001b[0;34m\u001b[0m\u001b[0m\n\u001b[1;32m    693\u001b[0m         \u001b[0;32mif\u001b[0m \u001b[0mtrigger_type\u001b[0m \u001b[0;32mis\u001b[0m \u001b[0;32mnot\u001b[0m \u001b[0;32mNone\u001b[0m\u001b[0;34m:\u001b[0m\u001b[0;34m\u001b[0m\u001b[0;34m\u001b[0m\u001b[0m\n\u001b[0;32m--> 694\u001b[0;31m             \u001b[0mtr\u001b[0m\u001b[0;34m.\u001b[0m\u001b[0mtrigger\u001b[0m\u001b[0;34m(\u001b[0m\u001b[0mtrigger_type\u001b[0m\u001b[0;34m,\u001b[0m \u001b[0;34m**\u001b[0m\u001b[0moptions\u001b[0m\u001b[0;34m)\u001b[0m\u001b[0;34m\u001b[0m\u001b[0;34m\u001b[0m\u001b[0m\n\u001b[0m\u001b[1;32m    695\u001b[0m         kwargs['max_len'] = int(\n\u001b[1;32m    696\u001b[0m             max_trigger_length * tr.stats.sampling_rate + 0.5)\n",
      "\u001b[0;32m<decorator-gen-135>\u001b[0m in \u001b[0;36mtrigger\u001b[0;34m(self, type, **options)\u001b[0m\n",
      "\u001b[0;32m~/anaconda3/envs/eqcorrscan/lib/python3.6/site-packages/obspy/core/trace.py\u001b[0m in \u001b[0;36m_add_processing_info\u001b[0;34m(func, *args, **kwargs)\u001b[0m\n\u001b[1;32m    271\u001b[0m     \u001b[0minfo\u001b[0m \u001b[0;34m=\u001b[0m \u001b[0minfo\u001b[0m \u001b[0;34m%\u001b[0m \u001b[0;34m\"::\"\u001b[0m\u001b[0;34m.\u001b[0m\u001b[0mjoin\u001b[0m\u001b[0;34m(\u001b[0m\u001b[0marguments\u001b[0m\u001b[0;34m)\u001b[0m\u001b[0;34m\u001b[0m\u001b[0;34m\u001b[0m\u001b[0m\n\u001b[1;32m    272\u001b[0m     \u001b[0mself\u001b[0m \u001b[0;34m=\u001b[0m \u001b[0margs\u001b[0m\u001b[0;34m[\u001b[0m\u001b[0;36m0\u001b[0m\u001b[0;34m]\u001b[0m\u001b[0;34m\u001b[0m\u001b[0;34m\u001b[0m\u001b[0m\n\u001b[0;32m--> 273\u001b[0;31m     \u001b[0mresult\u001b[0m \u001b[0;34m=\u001b[0m \u001b[0mfunc\u001b[0m\u001b[0;34m(\u001b[0m\u001b[0;34m*\u001b[0m\u001b[0margs\u001b[0m\u001b[0;34m,\u001b[0m \u001b[0;34m**\u001b[0m\u001b[0mkwargs\u001b[0m\u001b[0;34m)\u001b[0m\u001b[0;34m\u001b[0m\u001b[0;34m\u001b[0m\u001b[0m\n\u001b[0m\u001b[1;32m    274\u001b[0m     \u001b[0;31m# Attach after executing the function to avoid having it attached\u001b[0m\u001b[0;34m\u001b[0m\u001b[0;34m\u001b[0m\u001b[0;34m\u001b[0m\u001b[0m\n\u001b[1;32m    275\u001b[0m     \u001b[0;31m# while the operation failed.\u001b[0m\u001b[0;34m\u001b[0m\u001b[0;34m\u001b[0m\u001b[0;34m\u001b[0m\u001b[0m\n",
      "\u001b[0;32m~/anaconda3/envs/eqcorrscan/lib/python3.6/site-packages/obspy/core/trace.py\u001b[0m in \u001b[0;36mtrigger\u001b[0;34m(self, type, **options)\u001b[0m\n\u001b[1;32m   1631\u001b[0m         \u001b[0;31m# the options dictionary is passed as kwargs to the function that is\u001b[0m\u001b[0;34m\u001b[0m\u001b[0;34m\u001b[0m\u001b[0;34m\u001b[0m\u001b[0m\n\u001b[1;32m   1632\u001b[0m         \u001b[0;31m# mapped according to the trigger_functions dictionary\u001b[0m\u001b[0;34m\u001b[0m\u001b[0;34m\u001b[0m\u001b[0;34m\u001b[0m\u001b[0m\n\u001b[0;32m-> 1633\u001b[0;31m         \u001b[0mself\u001b[0m\u001b[0;34m.\u001b[0m\u001b[0mdata\u001b[0m \u001b[0;34m=\u001b[0m \u001b[0mfunc\u001b[0m\u001b[0;34m(\u001b[0m\u001b[0mself\u001b[0m\u001b[0;34m.\u001b[0m\u001b[0mdata\u001b[0m\u001b[0;34m,\u001b[0m \u001b[0;34m**\u001b[0m\u001b[0moptions\u001b[0m\u001b[0;34m)\u001b[0m\u001b[0;34m\u001b[0m\u001b[0;34m\u001b[0m\u001b[0m\n\u001b[0m\u001b[1;32m   1634\u001b[0m         \u001b[0;32mreturn\u001b[0m \u001b[0mself\u001b[0m\u001b[0;34m\u001b[0m\u001b[0;34m\u001b[0m\u001b[0m\n\u001b[1;32m   1635\u001b[0m \u001b[0;34m\u001b[0m\u001b[0m\n",
      "\u001b[0;32m~/anaconda3/envs/eqcorrscan/lib/python3.6/site-packages/obspy/signal/trigger.py\u001b[0m in \u001b[0;36mrecursive_sta_lta\u001b[0;34m(a, nsta, nlta)\u001b[0m\n\u001b[1;32m     61\u001b[0m     \"\"\"\n\u001b[1;32m     62\u001b[0m     \u001b[0;31m# be nice and adapt type if necessary\u001b[0m\u001b[0;34m\u001b[0m\u001b[0;34m\u001b[0m\u001b[0;34m\u001b[0m\u001b[0m\n\u001b[0;32m---> 63\u001b[0;31m     \u001b[0ma\u001b[0m \u001b[0;34m=\u001b[0m \u001b[0mnp\u001b[0m\u001b[0;34m.\u001b[0m\u001b[0mascontiguousarray\u001b[0m\u001b[0;34m(\u001b[0m\u001b[0ma\u001b[0m\u001b[0;34m,\u001b[0m \u001b[0mnp\u001b[0m\u001b[0;34m.\u001b[0m\u001b[0mfloat64\u001b[0m\u001b[0;34m)\u001b[0m\u001b[0;34m\u001b[0m\u001b[0;34m\u001b[0m\u001b[0m\n\u001b[0m\u001b[1;32m     64\u001b[0m     \u001b[0mndat\u001b[0m \u001b[0;34m=\u001b[0m \u001b[0mlen\u001b[0m\u001b[0;34m(\u001b[0m\u001b[0ma\u001b[0m\u001b[0;34m)\u001b[0m\u001b[0;34m\u001b[0m\u001b[0;34m\u001b[0m\u001b[0m\n\u001b[1;32m     65\u001b[0m     \u001b[0mcharfct\u001b[0m \u001b[0;34m=\u001b[0m \u001b[0mnp\u001b[0m\u001b[0;34m.\u001b[0m\u001b[0mempty\u001b[0m\u001b[0;34m(\u001b[0m\u001b[0mndat\u001b[0m\u001b[0;34m,\u001b[0m \u001b[0mdtype\u001b[0m\u001b[0;34m=\u001b[0m\u001b[0mnp\u001b[0m\u001b[0;34m.\u001b[0m\u001b[0mfloat64\u001b[0m\u001b[0;34m)\u001b[0m\u001b[0;34m\u001b[0m\u001b[0;34m\u001b[0m\u001b[0m\n",
      "\u001b[0;32m~/anaconda3/envs/eqcorrscan/lib/python3.6/site-packages/numpy/core/_asarray.py\u001b[0m in \u001b[0;36mascontiguousarray\u001b[0;34m(a, dtype)\u001b[0m\n\u001b[1;32m    177\u001b[0m \u001b[0;34m\u001b[0m\u001b[0m\n\u001b[1;32m    178\u001b[0m     \"\"\"\n\u001b[0;32m--> 179\u001b[0;31m     \u001b[0;32mreturn\u001b[0m \u001b[0marray\u001b[0m\u001b[0;34m(\u001b[0m\u001b[0ma\u001b[0m\u001b[0;34m,\u001b[0m \u001b[0mdtype\u001b[0m\u001b[0;34m,\u001b[0m \u001b[0mcopy\u001b[0m\u001b[0;34m=\u001b[0m\u001b[0;32mFalse\u001b[0m\u001b[0;34m,\u001b[0m \u001b[0morder\u001b[0m\u001b[0;34m=\u001b[0m\u001b[0;34m'C'\u001b[0m\u001b[0;34m,\u001b[0m \u001b[0mndmin\u001b[0m\u001b[0;34m=\u001b[0m\u001b[0;36m1\u001b[0m\u001b[0;34m)\u001b[0m\u001b[0;34m\u001b[0m\u001b[0;34m\u001b[0m\u001b[0m\n\u001b[0m\u001b[1;32m    180\u001b[0m \u001b[0;34m\u001b[0m\u001b[0m\n\u001b[1;32m    181\u001b[0m \u001b[0;34m\u001b[0m\u001b[0m\n",
      "\u001b[0;31mKeyboardInterrupt\u001b[0m: "
     ]
    }
   ],
   "source": [
    "# params\n",
    "fs = 1/500.\n",
    "sta_vals = [1, 5, 10]\n",
    "lta_vals = [100, 500, 1000, 3500]\n",
    "on_thresh_vals = [1.5, 5, 10]\n",
    "\n",
    "#off_thresh = 0.5\n",
    "min_chans = 8\n",
    "\n",
    "\n",
    "# Loop over all combinations\n",
    "unique_detections = np.array([])\n",
    "detect_list_dict = dict({})\n",
    "min_sep = 3.0\n",
    "\n",
    "for sta in sta_vals:\n",
    "    for lta in lta_vals:\n",
    "        for on_thresh in on_thresh_vals:\n",
    "            off_thresh = 0.5*on_thresh\n",
    "            \n",
    "            print(\"STA = %f, LTA = %f, on_thresh = %f, off_thresh = %f\" % (sta, lta, on_thresh, off_thresh))\n",
    "            \n",
    "            # Run detector\n",
    "            detection_list = coincidence_trigger('recstalta', \n",
    "                                                 on_thresh, \n",
    "                                                 off_thresh, \n",
    "                                                 stream,\n",
    "                                                 sta=sta, \n",
    "                                                 lta=lta,\n",
    "                                                 thr_coincidence_sum=min_chans, \n",
    "                                                 details=True)\n",
    "                                                 #max_trigger_length=20.0, \n",
    "                                                 #delete_long_trigger=True,\n",
    "                                                 #details=True)            \n",
    "            print(\"%d detections\" % len(detection_list))\n",
    "            \n",
    "            # Now loop over detections, see if new\n",
    "            current_list = [] # List of detection times associated to these parameters (using times from previous combinations if any)\n",
    "            for detection in detection_list:                \n",
    "                det_time = detection[\"time\"]._get_datetime()\n",
    "                is_ert_on = ert_surveys.loc[(ert_surveys['time_utc_start'] <= det_time) & (ert_surveys['time_utc_end'] >= det_time)].shape[0] > 0\n",
    "                if is_ert_on:\n",
    "                    continue\n",
    "                if unique_detections:                    \n",
    "                    imin = np.argmin(unique_detections - detection[\"time\"])\n",
    "                    if np.abs(unique_detections[imin] - detection[\"time\"]) < min_sep:\n",
    "                        # detection already recorded before\n",
    "                        current_list.append(unique_detections[imin])\n",
    "                    else:\n",
    "                        # New detection\n",
    "                        np.insert(unique_detections, 0, detection[\"time\"])\n",
    "                        current_list.append(detection[\"time\"])\n",
    "            \n",
    "            # Now add to dict\n",
    "            key = \"sta%f_lta%f_on%f\" % (sta, lta, on_thresh)\n",
    "            detect_list_dict[key] = current_list\n",
    "            "
   ]
  },
  {
   "cell_type": "code",
   "execution_count": null,
   "metadata": {},
   "outputs": [],
   "source": []
  }
 ],
 "metadata": {
  "kernelspec": {
   "display_name": "Python 3",
   "language": "python",
   "name": "python3"
  },
  "language_info": {
   "codemirror_mode": {
    "name": "ipython",
    "version": 3
   },
   "file_extension": ".py",
   "mimetype": "text/x-python",
   "name": "python",
   "nbconvert_exporter": "python",
   "pygments_lexer": "ipython3",
   "version": "3.6.10"
  }
 },
 "nbformat": 4,
 "nbformat_minor": 4
}
